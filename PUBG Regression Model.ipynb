{
 "cells": [
  {
   "cell_type": "code",
   "execution_count": 159,
   "metadata": {},
   "outputs": [],
   "source": [
    "import numpy as np\n",
    "import pandas as pd\n",
    "import matplotlib.pyplot as plt\n",
    "import seaborn as sns \n",
    "from sklearn import datasets, linear_model\n",
    "from sklearn.metrics import mean_squared_error, r2_score\n",
    "from sklearn import feature_selection"
   ]
  },
  {
   "cell_type": "code",
   "execution_count": 160,
   "metadata": {},
   "outputs": [],
   "source": [
    "df = pd.read_csv('train.csv')"
   ]
  },
  {
   "cell_type": "code",
   "execution_count": 161,
   "metadata": {},
   "outputs": [
    {
     "data": {
      "text/plain": [
       "(4357336, 26)"
      ]
     },
     "execution_count": 161,
     "metadata": {},
     "output_type": "execute_result"
    }
   ],
   "source": [
    "df.shape"
   ]
  },
  {
   "cell_type": "markdown",
   "metadata": {},
   "source": [
    "## Feature Engineering"
   ]
  },
  {
   "cell_type": "code",
   "execution_count": 62,
   "metadata": {},
   "outputs": [
    {
     "data": {
      "image/png": "[encoded data removed]",
      "text/plain": [
       "<Figure size 1080x720 with 1 Axes>"
      ]
     },
     "metadata": {},
     "output_type": "display_data"
    }
   ],
   "source": [
    "# PlayersJoin\n",
    "df['playersJoined'] = df.groupby('matchId')['matchId'].transform('count')\n",
    "data = df.copy()\n",
    "data = data[data['playersJoined']>49]\n",
    "plt.figure(figsize=(15,10))\n",
    "sns.countplot(data['playersJoined'])\n",
    "plt.title(\"Players Joined\",fontsize=15)\n",
    "plt.show()"
   ]
  },
  {
   "cell_type": "code",
   "execution_count": 64,
   "metadata": {},
   "outputs": [
    {
     "data": {
      "text/plain": [
       "(1431, 30)"
      ]
     },
     "metadata": {},
     "output_type": "display_data"
    },
    {
     "data": {
      "text/html": [
       "<div>\n",
       "<style scoped>\n",
       "    .dataframe tbody tr th:only-of-type {\n",
       "        vertical-align: middle;\n",
       "    }\n",
       "\n",
       "    .dataframe tbody tr th {\n",
       "        vertical-align: top;\n",
       "    }\n",
       "\n",
       "    .dataframe thead th {\n",
       "        text-align: right;\n",
       "    }\n",
       "</style>\n",
       "<table border=\"1\" class=\"dataframe\">\n",
       "  <thead>\n",
       "    <tr style=\"text-align: right;\">\n",
       "      <th></th>\n",
       "      <th>Id</th>\n",
       "      <th>groupId</th>\n",
       "      <th>matchId</th>\n",
       "      <th>assists</th>\n",
       "      <th>boosts</th>\n",
       "      <th>damageDealt</th>\n",
       "      <th>DBNOs</th>\n",
       "      <th>headshotKills</th>\n",
       "      <th>heals</th>\n",
       "      <th>killPlace</th>\n",
       "      <th>...</th>\n",
       "      <th>teamKills</th>\n",
       "      <th>vehicleDestroys</th>\n",
       "      <th>walkDistance</th>\n",
       "      <th>weaponsAcquired</th>\n",
       "      <th>winPoints</th>\n",
       "      <th>winPlacePerc</th>\n",
       "      <th>playersJoined</th>\n",
       "      <th>totalDistance</th>\n",
       "      <th>killsWithoutMoving</th>\n",
       "      <th>headshot_rate</th>\n",
       "    </tr>\n",
       "  </thead>\n",
       "  <tbody>\n",
       "    <tr>\n",
       "      <th>1777</th>\n",
       "      <td>1777</td>\n",
       "      <td>344864</td>\n",
       "      <td>1777</td>\n",
       "      <td>6</td>\n",
       "      <td>0</td>\n",
       "      <td>1087.0</td>\n",
       "      <td>13</td>\n",
       "      <td>6</td>\n",
       "      <td>0</td>\n",
       "      <td>1</td>\n",
       "      <td>...</td>\n",
       "      <td>0</td>\n",
       "      <td>0</td>\n",
       "      <td>0.0</td>\n",
       "      <td>9</td>\n",
       "      <td>1500</td>\n",
       "      <td>1.0000</td>\n",
       "      <td>13</td>\n",
       "      <td>0.0</td>\n",
       "      <td>True</td>\n",
       "      <td>0.500000</td>\n",
       "    </tr>\n",
       "    <tr>\n",
       "      <th>3260</th>\n",
       "      <td>3260</td>\n",
       "      <td>993275</td>\n",
       "      <td>3260</td>\n",
       "      <td>0</td>\n",
       "      <td>0</td>\n",
       "      <td>510.9</td>\n",
       "      <td>0</td>\n",
       "      <td>1</td>\n",
       "      <td>0</td>\n",
       "      <td>6</td>\n",
       "      <td>...</td>\n",
       "      <td>0</td>\n",
       "      <td>0</td>\n",
       "      <td>0.0</td>\n",
       "      <td>10</td>\n",
       "      <td>1500</td>\n",
       "      <td>0.7692</td>\n",
       "      <td>18</td>\n",
       "      <td>0.0</td>\n",
       "      <td>True</td>\n",
       "      <td>0.166667</td>\n",
       "    </tr>\n",
       "    <tr>\n",
       "      <th>3405</th>\n",
       "      <td>3405</td>\n",
       "      <td>1057673</td>\n",
       "      <td>3405</td>\n",
       "      <td>3</td>\n",
       "      <td>1</td>\n",
       "      <td>1462.0</td>\n",
       "      <td>0</td>\n",
       "      <td>5</td>\n",
       "      <td>6</td>\n",
       "      <td>1</td>\n",
       "      <td>...</td>\n",
       "      <td>0</td>\n",
       "      <td>0</td>\n",
       "      <td>0.0</td>\n",
       "      <td>29</td>\n",
       "      <td>1500</td>\n",
       "      <td>1.0000</td>\n",
       "      <td>11</td>\n",
       "      <td>0.0</td>\n",
       "      <td>True</td>\n",
       "      <td>0.333333</td>\n",
       "    </tr>\n",
       "    <tr>\n",
       "      <th>3612</th>\n",
       "      <td>3612</td>\n",
       "      <td>1148248</td>\n",
       "      <td>3612</td>\n",
       "      <td>12</td>\n",
       "      <td>0</td>\n",
       "      <td>2322.0</td>\n",
       "      <td>19</td>\n",
       "      <td>5</td>\n",
       "      <td>0</td>\n",
       "      <td>2</td>\n",
       "      <td>...</td>\n",
       "      <td>0</td>\n",
       "      <td>0</td>\n",
       "      <td>0.0</td>\n",
       "      <td>33</td>\n",
       "      <td>1500</td>\n",
       "      <td>0.7500</td>\n",
       "      <td>19</td>\n",
       "      <td>0.0</td>\n",
       "      <td>True</td>\n",
       "      <td>0.277778</td>\n",
       "    </tr>\n",
       "    <tr>\n",
       "      <th>4371</th>\n",
       "      <td>4371</td>\n",
       "      <td>1483027</td>\n",
       "      <td>4371</td>\n",
       "      <td>4</td>\n",
       "      <td>0</td>\n",
       "      <td>582.2</td>\n",
       "      <td>5</td>\n",
       "      <td>2</td>\n",
       "      <td>0</td>\n",
       "      <td>34</td>\n",
       "      <td>...</td>\n",
       "      <td>0</td>\n",
       "      <td>0</td>\n",
       "      <td>0.0</td>\n",
       "      <td>16</td>\n",
       "      <td>1500</td>\n",
       "      <td>0.2000</td>\n",
       "      <td>45</td>\n",
       "      <td>0.0</td>\n",
       "      <td>True</td>\n",
       "      <td>0.400000</td>\n",
       "    </tr>\n",
       "  </tbody>\n",
       "</table>\n",
       "<p>5 rows × 30 columns</p>\n",
       "</div>"
      ],
      "text/plain": [
       "        Id  groupId  matchId  assists  boosts  damageDealt  DBNOs  \\\n",
       "1777  1777   344864     1777        6       0       1087.0     13   \n",
       "3260  3260   993275     3260        0       0        510.9      0   \n",
       "3405  3405  1057673     3405        3       1       1462.0      0   \n",
       "3612  3612  1148248     3612       12       0       2322.0     19   \n",
       "4371  4371  1483027     4371        4       0        582.2      5   \n",
       "\n",
       "      headshotKills  heals  killPlace      ...        teamKills  \\\n",
       "1777              6      0          1      ...                0   \n",
       "3260              1      0          6      ...                0   \n",
       "3405              5      6          1      ...                0   \n",
       "3612              5      0          2      ...                0   \n",
       "4371              2      0         34      ...                0   \n",
       "\n",
       "      vehicleDestroys  walkDistance  weaponsAcquired  winPoints  winPlacePerc  \\\n",
       "1777                0           0.0                9       1500        1.0000   \n",
       "3260                0           0.0               10       1500        0.7692   \n",
       "3405                0           0.0               29       1500        1.0000   \n",
       "3612                0           0.0               33       1500        0.7500   \n",
       "4371                0           0.0               16       1500        0.2000   \n",
       "\n",
       "      playersJoined  totalDistance  killsWithoutMoving  headshot_rate  \n",
       "1777             13            0.0                True       0.500000  \n",
       "3260             18            0.0                True       0.166667  \n",
       "3405             11            0.0                True       0.333333  \n",
       "3612             19            0.0                True       0.277778  \n",
       "4371             45            0.0                True       0.400000  \n",
       "\n",
       "[5 rows x 30 columns]"
      ]
     },
     "execution_count": 64,
     "metadata": {},
     "output_type": "execute_result"
    }
   ],
   "source": [
    "# remove cheating player\n",
    "# Kills without movement\n",
    "df['totalDistance'] = df['rideDistance'] + df['walkDistance'] + df['swimDistance']\n",
    "df['killsWithoutMoving'] = ((df['kills'] > 0) & (df['totalDistance'] == 0))\n",
    "\n",
    "# 100% headshot players\n",
    "df['headshot_rate'] = df['headshotKills'] / df['kills']\n",
    "df['headshot_rate'] = df['headshot_rate'].fillna(0)\n",
    "\n",
    "display(df[df['killsWithoutMoving'] == True].shape)\n",
    "df[df['killsWithoutMoving'] == True].head()"
   ]
  },
  {
   "cell_type": "markdown",
   "metadata": {},
   "source": [
    "## Preprocessing"
   ]
  },
  {
   "cell_type": "code",
   "execution_count": 65,
   "metadata": {},
   "outputs": [],
   "source": [
    "# Remove outliners that kill players without moving\n",
    "df.drop(df[df['killsWithoutMoving'] == True].index, inplace=True)"
   ]
  },
  {
   "cell_type": "code",
   "execution_count": 66,
   "metadata": {},
   "outputs": [
    {
     "name": "stderr",
     "output_type": "stream",
     "text": [
      "/anaconda3/lib/python3.6/site-packages/matplotlib/axes/_axes.py:6462: UserWarning: The 'normed' kwarg is deprecated, and has been replaced by the 'density' kwarg.\n",
      "  warnings.warn(\"The 'normed' kwarg is deprecated, and has been \"\n",
      "/anaconda3/lib/python3.6/site-packages/scipy/stats/stats.py:1713: FutureWarning: Using a non-tuple sequence for multidimensional indexing is deprecated; use `arr[tuple(seq)]` instead of `arr[seq]`. In the future this will be interpreted as an array index, `arr[np.array(seq)]`, which will result either in an error or a different result.\n",
      "  return np.add.reduce(sorted[indexer] * weights, axis=axis) / sumval\n"
     ]
    },
    {
     "data": {
      "image/png": "[encoded data removed]",
      "text/plain": [
       "<Figure size 864x432 with 1 Axes>"
      ]
     },
     "metadata": {},
     "output_type": "display_data"
    }
   ],
   "source": [
    "# visualize headshot rate\n",
    "plt.figure(figsize=(12,6))\n",
    "sns.distplot(df['headshot_rate'], bins=10)\n",
    "plt.show()"
   ]
  },
  {
   "cell_type": "code",
   "execution_count": 67,
   "metadata": {},
   "outputs": [
    {
     "data": {
      "text/plain": [
       "(28, 30)"
      ]
     },
     "metadata": {},
     "output_type": "display_data"
    }
   ],
   "source": [
    "# Players who made a minimum of 7 kills and have a headshot_rate of 100%\n",
    "display(df[(df['headshot_rate'] == 1) & (df['kills'] > 7)].shape)"
   ]
  },
  {
   "cell_type": "code",
   "execution_count": 68,
   "metadata": {},
   "outputs": [
    {
     "name": "stderr",
     "output_type": "stream",
     "text": [
      "/anaconda3/lib/python3.6/site-packages/matplotlib/axes/_axes.py:6462: UserWarning: The 'normed' kwarg is deprecated, and has been replaced by the 'density' kwarg.\n",
      "  warnings.warn(\"The 'normed' kwarg is deprecated, and has been \"\n",
      "/anaconda3/lib/python3.6/site-packages/scipy/stats/stats.py:1713: FutureWarning: Using a non-tuple sequence for multidimensional indexing is deprecated; use `arr[tuple(seq)]` instead of `arr[seq]`. In the future this will be interpreted as an array index, `arr[np.array(seq)]`, which will result either in an error or a different result.\n",
      "  return np.add.reduce(sorted[indexer] * weights, axis=axis) / sumval\n"
     ]
    },
    {
     "data": {
      "image/png": "[encoded data removed]",
      "text/plain": [
       "<Figure size 864x432 with 1 Axes>"
      ]
     },
     "metadata": {},
     "output_type": "display_data"
    }
   ],
   "source": [
    "# Weapons acquired cheaters\n",
    "plt.figure(figsize=(12,6))\n",
    "sns.distplot(df['weaponsAcquired'], bins=100)\n",
    "plt.show()"
   ]
  },
  {
   "cell_type": "code",
   "execution_count": 69,
   "metadata": {},
   "outputs": [
    {
     "data": {
      "text/html": [
       "<div>\n",
       "<style scoped>\n",
       "    .dataframe tbody tr th:only-of-type {\n",
       "        vertical-align: middle;\n",
       "    }\n",
       "\n",
       "    .dataframe tbody tr th {\n",
       "        vertical-align: top;\n",
       "    }\n",
       "\n",
       "    .dataframe thead th {\n",
       "        text-align: right;\n",
       "    }\n",
       "</style>\n",
       "<table border=\"1\" class=\"dataframe\">\n",
       "  <thead>\n",
       "    <tr style=\"text-align: right;\">\n",
       "      <th></th>\n",
       "      <th>Id</th>\n",
       "      <th>groupId</th>\n",
       "      <th>matchId</th>\n",
       "      <th>assists</th>\n",
       "      <th>boosts</th>\n",
       "      <th>damageDealt</th>\n",
       "      <th>DBNOs</th>\n",
       "      <th>headshotKills</th>\n",
       "      <th>heals</th>\n",
       "      <th>killPlace</th>\n",
       "      <th>...</th>\n",
       "      <th>teamKills</th>\n",
       "      <th>vehicleDestroys</th>\n",
       "      <th>walkDistance</th>\n",
       "      <th>weaponsAcquired</th>\n",
       "      <th>winPoints</th>\n",
       "      <th>winPlacePerc</th>\n",
       "      <th>playersJoined</th>\n",
       "      <th>totalDistance</th>\n",
       "      <th>killsWithoutMoving</th>\n",
       "      <th>headshot_rate</th>\n",
       "    </tr>\n",
       "  </thead>\n",
       "  <tbody>\n",
       "    <tr>\n",
       "      <th>7498</th>\n",
       "      <td>7498</td>\n",
       "      <td>2590560</td>\n",
       "      <td>7498</td>\n",
       "      <td>5</td>\n",
       "      <td>0</td>\n",
       "      <td>1470.0</td>\n",
       "      <td>0</td>\n",
       "      <td>2</td>\n",
       "      <td>11</td>\n",
       "      <td>7</td>\n",
       "      <td>...</td>\n",
       "      <td>0</td>\n",
       "      <td>0</td>\n",
       "      <td>1013.00</td>\n",
       "      <td>61</td>\n",
       "      <td>1500</td>\n",
       "      <td>0.3333</td>\n",
       "      <td>10</td>\n",
       "      <td>2981.00</td>\n",
       "      <td>False</td>\n",
       "      <td>0.166667</td>\n",
       "    </tr>\n",
       "    <tr>\n",
       "      <th>7790</th>\n",
       "      <td>7790</td>\n",
       "      <td>2603586</td>\n",
       "      <td>7790</td>\n",
       "      <td>8</td>\n",
       "      <td>0</td>\n",
       "      <td>2413.0</td>\n",
       "      <td>0</td>\n",
       "      <td>4</td>\n",
       "      <td>4</td>\n",
       "      <td>10</td>\n",
       "      <td>...</td>\n",
       "      <td>0</td>\n",
       "      <td>0</td>\n",
       "      <td>212.20</td>\n",
       "      <td>60</td>\n",
       "      <td>1500</td>\n",
       "      <td>0.5294</td>\n",
       "      <td>21</td>\n",
       "      <td>212.20</td>\n",
       "      <td>False</td>\n",
       "      <td>0.190476</td>\n",
       "    </tr>\n",
       "    <tr>\n",
       "      <th>198722</th>\n",
       "      <td>280551</td>\n",
       "      <td>2603584</td>\n",
       "      <td>7790</td>\n",
       "      <td>5</td>\n",
       "      <td>0</td>\n",
       "      <td>2475.0</td>\n",
       "      <td>0</td>\n",
       "      <td>6</td>\n",
       "      <td>10</td>\n",
       "      <td>8</td>\n",
       "      <td>...</td>\n",
       "      <td>0</td>\n",
       "      <td>0</td>\n",
       "      <td>24.57</td>\n",
       "      <td>60</td>\n",
       "      <td>1500</td>\n",
       "      <td>0.6471</td>\n",
       "      <td>21</td>\n",
       "      <td>24.57</td>\n",
       "      <td>False</td>\n",
       "      <td>0.272727</td>\n",
       "    </tr>\n",
       "    <tr>\n",
       "      <th>265024</th>\n",
       "      <td>367310</td>\n",
       "      <td>718928</td>\n",
       "      <td>26362</td>\n",
       "      <td>12</td>\n",
       "      <td>0</td>\n",
       "      <td>3363.0</td>\n",
       "      <td>0</td>\n",
       "      <td>8</td>\n",
       "      <td>2</td>\n",
       "      <td>8</td>\n",
       "      <td>...</td>\n",
       "      <td>0</td>\n",
       "      <td>0</td>\n",
       "      <td>1104.00</td>\n",
       "      <td>67</td>\n",
       "      <td>1500</td>\n",
       "      <td>0.6957</td>\n",
       "      <td>24</td>\n",
       "      <td>3126.00</td>\n",
       "      <td>False</td>\n",
       "      <td>0.307692</td>\n",
       "    </tr>\n",
       "    <tr>\n",
       "      <th>341913</th>\n",
       "      <td>485113</td>\n",
       "      <td>2603583</td>\n",
       "      <td>7790</td>\n",
       "      <td>4</td>\n",
       "      <td>0</td>\n",
       "      <td>2448.0</td>\n",
       "      <td>0</td>\n",
       "      <td>3</td>\n",
       "      <td>13</td>\n",
       "      <td>6</td>\n",
       "      <td>...</td>\n",
       "      <td>0</td>\n",
       "      <td>0</td>\n",
       "      <td>1311.00</td>\n",
       "      <td>63</td>\n",
       "      <td>1500</td>\n",
       "      <td>0.7059</td>\n",
       "      <td>21</td>\n",
       "      <td>3334.00</td>\n",
       "      <td>False</td>\n",
       "      <td>0.120000</td>\n",
       "    </tr>\n",
       "  </tbody>\n",
       "</table>\n",
       "<p>5 rows × 30 columns</p>\n",
       "</div>"
      ],
      "text/plain": [
       "            Id  groupId  matchId  assists  boosts  damageDealt  DBNOs  \\\n",
       "7498      7498  2590560     7498        5       0       1470.0      0   \n",
       "7790      7790  2603586     7790        8       0       2413.0      0   \n",
       "198722  280551  2603584     7790        5       0       2475.0      0   \n",
       "265024  367310   718928    26362       12       0       3363.0      0   \n",
       "341913  485113  2603583     7790        4       0       2448.0      0   \n",
       "\n",
       "        headshotKills  heals  killPlace      ...        teamKills  \\\n",
       "7498                2     11          7      ...                0   \n",
       "7790                4      4         10      ...                0   \n",
       "198722              6     10          8      ...                0   \n",
       "265024              8      2          8      ...                0   \n",
       "341913              3     13          6      ...                0   \n",
       "\n",
       "        vehicleDestroys  walkDistance  weaponsAcquired  winPoints  \\\n",
       "7498                  0       1013.00               61       1500   \n",
       "7790                  0        212.20               60       1500   \n",
       "198722                0         24.57               60       1500   \n",
       "265024                0       1104.00               67       1500   \n",
       "341913                0       1311.00               63       1500   \n",
       "\n",
       "        winPlacePerc  playersJoined  totalDistance  killsWithoutMoving  \\\n",
       "7498          0.3333             10        2981.00               False   \n",
       "7790          0.5294             21         212.20               False   \n",
       "198722        0.6471             21          24.57               False   \n",
       "265024        0.6957             24        3126.00               False   \n",
       "341913        0.7059             21        3334.00               False   \n",
       "\n",
       "        headshot_rate  \n",
       "7498         0.166667  \n",
       "7790         0.190476  \n",
       "198722       0.272727  \n",
       "265024       0.307692  \n",
       "341913       0.120000  \n",
       "\n",
       "[5 rows x 30 columns]"
      ]
     },
     "execution_count": 69,
     "metadata": {},
     "output_type": "execute_result"
    }
   ],
   "source": [
    "df[df['weaponsAcquired'] >= 60].head()"
   ]
  },
  {
   "cell_type": "code",
   "execution_count": 70,
   "metadata": {},
   "outputs": [],
   "source": [
    "# Remove outliers\n",
    "df.drop(df[df['weaponsAcquired'] >= 60].index, inplace=True)"
   ]
  },
  {
   "cell_type": "code",
   "execution_count": 71,
   "metadata": {},
   "outputs": [
    {
     "name": "stderr",
     "output_type": "stream",
     "text": [
      "/anaconda3/lib/python3.6/site-packages/matplotlib/axes/_axes.py:6462: UserWarning: The 'normed' kwarg is deprecated, and has been replaced by the 'density' kwarg.\n",
      "  warnings.warn(\"The 'normed' kwarg is deprecated, and has been \"\n",
      "/anaconda3/lib/python3.6/site-packages/scipy/stats/stats.py:1713: FutureWarning: Using a non-tuple sequence for multidimensional indexing is deprecated; use `arr[tuple(seq)]` instead of `arr[seq]`. In the future this will be interpreted as an array index, `arr[np.array(seq)]`, which will result either in an error or a different result.\n",
      "  return np.add.reduce(sorted[indexer] * weights, axis=axis) / sumval\n"
     ]
    },
    {
     "data": {
      "image/png": "[encoded data removed]",
      "text/plain": [
       "<Figure size 864x432 with 1 Axes>"
      ]
     },
     "metadata": {},
     "output_type": "display_data"
    }
   ],
   "source": [
    "# Supply cheaters\n",
    "plt.figure(figsize=(12,6))\n",
    "sns.distplot(df['heals'], bins=10)\n",
    "plt.show()"
   ]
  },
  {
   "cell_type": "code",
   "execution_count": 72,
   "metadata": {},
   "outputs": [
    {
     "data": {
      "text/html": [
       "<div>\n",
       "<style scoped>\n",
       "    .dataframe tbody tr th:only-of-type {\n",
       "        vertical-align: middle;\n",
       "    }\n",
       "\n",
       "    .dataframe tbody tr th {\n",
       "        vertical-align: top;\n",
       "    }\n",
       "\n",
       "    .dataframe thead th {\n",
       "        text-align: right;\n",
       "    }\n",
       "</style>\n",
       "<table border=\"1\" class=\"dataframe\">\n",
       "  <thead>\n",
       "    <tr style=\"text-align: right;\">\n",
       "      <th></th>\n",
       "      <th>Id</th>\n",
       "      <th>groupId</th>\n",
       "      <th>matchId</th>\n",
       "      <th>assists</th>\n",
       "      <th>boosts</th>\n",
       "      <th>damageDealt</th>\n",
       "      <th>DBNOs</th>\n",
       "      <th>headshotKills</th>\n",
       "      <th>heals</th>\n",
       "      <th>killPlace</th>\n",
       "      <th>...</th>\n",
       "      <th>teamKills</th>\n",
       "      <th>vehicleDestroys</th>\n",
       "      <th>walkDistance</th>\n",
       "      <th>weaponsAcquired</th>\n",
       "      <th>winPoints</th>\n",
       "      <th>winPlacePerc</th>\n",
       "      <th>playersJoined</th>\n",
       "      <th>totalDistance</th>\n",
       "      <th>killsWithoutMoving</th>\n",
       "      <th>headshot_rate</th>\n",
       "    </tr>\n",
       "  </thead>\n",
       "  <tbody>\n",
       "    <tr>\n",
       "      <th>271303</th>\n",
       "      <td>373589</td>\n",
       "      <td>994708</td>\n",
       "      <td>32641</td>\n",
       "      <td>0</td>\n",
       "      <td>1</td>\n",
       "      <td>0.0</td>\n",
       "      <td>0</td>\n",
       "      <td>0</td>\n",
       "      <td>55</td>\n",
       "      <td>44</td>\n",
       "      <td>...</td>\n",
       "      <td>0</td>\n",
       "      <td>0</td>\n",
       "      <td>3486.0</td>\n",
       "      <td>6</td>\n",
       "      <td>1530</td>\n",
       "      <td>0.9271</td>\n",
       "      <td>97</td>\n",
       "      <td>3486.0</td>\n",
       "      <td>False</td>\n",
       "      <td>0.0</td>\n",
       "    </tr>\n",
       "    <tr>\n",
       "      <th>721128</th>\n",
       "      <td>1027544</td>\n",
       "      <td>2266055</td>\n",
       "      <td>6147</td>\n",
       "      <td>1</td>\n",
       "      <td>1</td>\n",
       "      <td>136.5</td>\n",
       "      <td>0</td>\n",
       "      <td>0</td>\n",
       "      <td>58</td>\n",
       "      <td>15</td>\n",
       "      <td>...</td>\n",
       "      <td>0</td>\n",
       "      <td>0</td>\n",
       "      <td>2275.0</td>\n",
       "      <td>3</td>\n",
       "      <td>1499</td>\n",
       "      <td>0.8065</td>\n",
       "      <td>100</td>\n",
       "      <td>5476.0</td>\n",
       "      <td>False</td>\n",
       "      <td>0.0</td>\n",
       "    </tr>\n",
       "    <tr>\n",
       "      <th>1546110</th>\n",
       "      <td>2196694</td>\n",
       "      <td>804883</td>\n",
       "      <td>28286</td>\n",
       "      <td>0</td>\n",
       "      <td>5</td>\n",
       "      <td>0.0</td>\n",
       "      <td>0</td>\n",
       "      <td>0</td>\n",
       "      <td>59</td>\n",
       "      <td>16</td>\n",
       "      <td>...</td>\n",
       "      <td>0</td>\n",
       "      <td>0</td>\n",
       "      <td>782.7</td>\n",
       "      <td>0</td>\n",
       "      <td>1503</td>\n",
       "      <td>0.6923</td>\n",
       "      <td>34</td>\n",
       "      <td>3272.7</td>\n",
       "      <td>False</td>\n",
       "      <td>0.0</td>\n",
       "    </tr>\n",
       "  </tbody>\n",
       "</table>\n",
       "<p>3 rows × 30 columns</p>\n",
       "</div>"
      ],
      "text/plain": [
       "              Id  groupId  matchId  assists  boosts  damageDealt  DBNOs  \\\n",
       "271303    373589   994708    32641        0       1          0.0      0   \n",
       "721128   1027544  2266055     6147        1       1        136.5      0   \n",
       "1546110  2196694   804883    28286        0       5          0.0      0   \n",
       "\n",
       "         headshotKills  heals  killPlace      ...        teamKills  \\\n",
       "271303               0     55         44      ...                0   \n",
       "721128               0     58         15      ...                0   \n",
       "1546110              0     59         16      ...                0   \n",
       "\n",
       "         vehicleDestroys  walkDistance  weaponsAcquired  winPoints  \\\n",
       "271303                 0        3486.0                6       1530   \n",
       "721128                 0        2275.0                3       1499   \n",
       "1546110                0         782.7                0       1503   \n",
       "\n",
       "         winPlacePerc  playersJoined  totalDistance  killsWithoutMoving  \\\n",
       "271303         0.9271             97         3486.0               False   \n",
       "721128         0.8065            100         5476.0               False   \n",
       "1546110        0.6923             34         3272.7               False   \n",
       "\n",
       "         headshot_rate  \n",
       "271303             0.0  \n",
       "721128             0.0  \n",
       "1546110            0.0  \n",
       "\n",
       "[3 rows x 30 columns]"
      ]
     },
     "execution_count": 72,
     "metadata": {},
     "output_type": "execute_result"
    }
   ],
   "source": [
    "df[df['heals'] >= 50]"
   ]
  },
  {
   "cell_type": "code",
   "execution_count": 73,
   "metadata": {},
   "outputs": [],
   "source": [
    "# Remove outliers\n",
    "df.drop(df[df['heals'] >= 50].index, inplace=True)"
   ]
  },
  {
   "cell_type": "code",
   "execution_count": 74,
   "metadata": {},
   "outputs": [
    {
     "data": {
      "text/plain": [
       "(4355887, 30)"
      ]
     },
     "execution_count": 74,
     "metadata": {},
     "output_type": "execute_result"
    }
   ],
   "source": [
    "df.shape"
   ]
  },
  {
   "cell_type": "code",
   "execution_count": 75,
   "metadata": {},
   "outputs": [],
   "source": [
    "y=df['winPlacePerc']"
   ]
  },
  {
   "cell_type": "code",
   "execution_count": 76,
   "metadata": {},
   "outputs": [],
   "source": [
    "df = df.drop(df.columns[[0, 1, 2]], axis=1)"
   ]
  },
  {
   "cell_type": "code",
   "execution_count": 79,
   "metadata": {},
   "outputs": [],
   "source": [
    "x = df.drop(['winPlacePerc'],axis=1)"
   ]
  },
  {
   "cell_type": "code",
   "execution_count": 80,
   "metadata": {},
   "outputs": [
    {
     "data": {
      "text/html": [
       "<div>\n",
       "<style scoped>\n",
       "    .dataframe tbody tr th:only-of-type {\n",
       "        vertical-align: middle;\n",
       "    }\n",
       "\n",
       "    .dataframe tbody tr th {\n",
       "        vertical-align: top;\n",
       "    }\n",
       "\n",
       "    .dataframe thead th {\n",
       "        text-align: right;\n",
       "    }\n",
       "</style>\n",
       "<table border=\"1\" class=\"dataframe\">\n",
       "  <thead>\n",
       "    <tr style=\"text-align: right;\">\n",
       "      <th></th>\n",
       "      <th>assists</th>\n",
       "      <th>boosts</th>\n",
       "      <th>damageDealt</th>\n",
       "      <th>DBNOs</th>\n",
       "      <th>headshotKills</th>\n",
       "      <th>heals</th>\n",
       "      <th>killPlace</th>\n",
       "      <th>killPoints</th>\n",
       "      <th>kills</th>\n",
       "      <th>killStreaks</th>\n",
       "      <th>...</th>\n",
       "      <th>swimDistance</th>\n",
       "      <th>teamKills</th>\n",
       "      <th>vehicleDestroys</th>\n",
       "      <th>walkDistance</th>\n",
       "      <th>weaponsAcquired</th>\n",
       "      <th>winPoints</th>\n",
       "      <th>playersJoined</th>\n",
       "      <th>totalDistance</th>\n",
       "      <th>killsWithoutMoving</th>\n",
       "      <th>headshot_rate</th>\n",
       "    </tr>\n",
       "  </thead>\n",
       "  <tbody>\n",
       "    <tr>\n",
       "      <th>0</th>\n",
       "      <td>0</td>\n",
       "      <td>5</td>\n",
       "      <td>247.30</td>\n",
       "      <td>2</td>\n",
       "      <td>0</td>\n",
       "      <td>4</td>\n",
       "      <td>17</td>\n",
       "      <td>1050</td>\n",
       "      <td>2</td>\n",
       "      <td>1</td>\n",
       "      <td>...</td>\n",
       "      <td>0.0</td>\n",
       "      <td>0</td>\n",
       "      <td>0</td>\n",
       "      <td>782.40</td>\n",
       "      <td>4</td>\n",
       "      <td>1458</td>\n",
       "      <td>99</td>\n",
       "      <td>1373.70</td>\n",
       "      <td>False</td>\n",
       "      <td>0.0</td>\n",
       "    </tr>\n",
       "    <tr>\n",
       "      <th>1</th>\n",
       "      <td>1</td>\n",
       "      <td>0</td>\n",
       "      <td>37.65</td>\n",
       "      <td>1</td>\n",
       "      <td>1</td>\n",
       "      <td>0</td>\n",
       "      <td>45</td>\n",
       "      <td>1072</td>\n",
       "      <td>1</td>\n",
       "      <td>1</td>\n",
       "      <td>...</td>\n",
       "      <td>0.0</td>\n",
       "      <td>0</td>\n",
       "      <td>0</td>\n",
       "      <td>119.60</td>\n",
       "      <td>3</td>\n",
       "      <td>1511</td>\n",
       "      <td>93</td>\n",
       "      <td>119.60</td>\n",
       "      <td>False</td>\n",
       "      <td>1.0</td>\n",
       "    </tr>\n",
       "    <tr>\n",
       "      <th>2</th>\n",
       "      <td>0</td>\n",
       "      <td>1</td>\n",
       "      <td>93.73</td>\n",
       "      <td>1</td>\n",
       "      <td>0</td>\n",
       "      <td>2</td>\n",
       "      <td>54</td>\n",
       "      <td>1404</td>\n",
       "      <td>0</td>\n",
       "      <td>0</td>\n",
       "      <td>...</td>\n",
       "      <td>0.0</td>\n",
       "      <td>0</td>\n",
       "      <td>0</td>\n",
       "      <td>3248.00</td>\n",
       "      <td>5</td>\n",
       "      <td>1583</td>\n",
       "      <td>93</td>\n",
       "      <td>3248.00</td>\n",
       "      <td>False</td>\n",
       "      <td>0.0</td>\n",
       "    </tr>\n",
       "    <tr>\n",
       "      <th>3</th>\n",
       "      <td>0</td>\n",
       "      <td>0</td>\n",
       "      <td>95.88</td>\n",
       "      <td>0</td>\n",
       "      <td>0</td>\n",
       "      <td>0</td>\n",
       "      <td>86</td>\n",
       "      <td>1069</td>\n",
       "      <td>0</td>\n",
       "      <td>0</td>\n",
       "      <td>...</td>\n",
       "      <td>0.0</td>\n",
       "      <td>0</td>\n",
       "      <td>0</td>\n",
       "      <td>21.49</td>\n",
       "      <td>1</td>\n",
       "      <td>1489</td>\n",
       "      <td>97</td>\n",
       "      <td>21.49</td>\n",
       "      <td>False</td>\n",
       "      <td>0.0</td>\n",
       "    </tr>\n",
       "    <tr>\n",
       "      <th>4</th>\n",
       "      <td>0</td>\n",
       "      <td>1</td>\n",
       "      <td>0.00</td>\n",
       "      <td>0</td>\n",
       "      <td>0</td>\n",
       "      <td>1</td>\n",
       "      <td>58</td>\n",
       "      <td>1034</td>\n",
       "      <td>0</td>\n",
       "      <td>0</td>\n",
       "      <td>...</td>\n",
       "      <td>0.0</td>\n",
       "      <td>0</td>\n",
       "      <td>0</td>\n",
       "      <td>640.80</td>\n",
       "      <td>4</td>\n",
       "      <td>1475</td>\n",
       "      <td>93</td>\n",
       "      <td>640.80</td>\n",
       "      <td>False</td>\n",
       "      <td>0.0</td>\n",
       "    </tr>\n",
       "  </tbody>\n",
       "</table>\n",
       "<p>5 rows × 26 columns</p>\n",
       "</div>"
      ],
      "text/plain": [
       "   assists  boosts  damageDealt  DBNOs  headshotKills  heals  killPlace  \\\n",
       "0        0       5       247.30      2              0      4         17   \n",
       "1        1       0        37.65      1              1      0         45   \n",
       "2        0       1        93.73      1              0      2         54   \n",
       "3        0       0        95.88      0              0      0         86   \n",
       "4        0       1         0.00      0              0      1         58   \n",
       "\n",
       "   killPoints  kills  killStreaks      ...        swimDistance  teamKills  \\\n",
       "0        1050      2            1      ...                 0.0          0   \n",
       "1        1072      1            1      ...                 0.0          0   \n",
       "2        1404      0            0      ...                 0.0          0   \n",
       "3        1069      0            0      ...                 0.0          0   \n",
       "4        1034      0            0      ...                 0.0          0   \n",
       "\n",
       "   vehicleDestroys  walkDistance  weaponsAcquired  winPoints  playersJoined  \\\n",
       "0                0        782.40                4       1458             99   \n",
       "1                0        119.60                3       1511             93   \n",
       "2                0       3248.00                5       1583             93   \n",
       "3                0         21.49                1       1489             97   \n",
       "4                0        640.80                4       1475             93   \n",
       "\n",
       "   totalDistance  killsWithoutMoving  headshot_rate  \n",
       "0        1373.70               False            0.0  \n",
       "1         119.60               False            1.0  \n",
       "2        3248.00               False            0.0  \n",
       "3          21.49               False            0.0  \n",
       "4         640.80               False            0.0  \n",
       "\n",
       "[5 rows x 26 columns]"
      ]
     },
     "execution_count": 80,
     "metadata": {},
     "output_type": "execute_result"
    }
   ],
   "source": [
    "x.head()"
   ]
  },
  {
   "cell_type": "markdown",
   "metadata": {},
   "source": [
    "## Feature Selection"
   ]
  },
  {
   "cell_type": "code",
   "execution_count": 95,
   "metadata": {},
   "outputs": [],
   "source": [
    "from sklearn import model_selection\n",
    "from sklearn.model_selection import train_test_split"
   ]
  },
  {
   "cell_type": "code",
   "execution_count": 82,
   "metadata": {},
   "outputs": [],
   "source": [
    "from sklearn.linear_model import LinearRegression"
   ]
  },
  {
   "cell_type": "code",
   "execution_count": 93,
   "metadata": {},
   "outputs": [],
   "source": [
    "from sklearn import feature_selection"
   ]
  },
  {
   "cell_type": "code",
   "execution_count": 104,
   "metadata": {},
   "outputs": [],
   "source": [
    "import warnings\n",
    "warnings.filterwarnings('ignore')"
   ]
  },
  {
   "cell_type": "code",
   "execution_count": 105,
   "metadata": {},
   "outputs": [
    {
     "name": "stdout",
     "output_type": "stream",
     "text": [
      "1 0.14243584720273017\n",
      "6 0.12082565421758706\n",
      "11 0.12035321870618106\n",
      "16 0.12025276581328062\n",
      "21 0.1148372948094489\n",
      "26 0.11481988136070861\n",
      "31 0.11172755808643589\n",
      "36 0.11171994222121706\n",
      "41 0.10425419935581925\n",
      "46 0.10416476615137234\n",
      "51 0.1038273622008418\n",
      "56 0.10382363878254867\n",
      "61 0.10289663545904046\n",
      "66 0.10277423957263643\n",
      "71 0.10277614906086403\n",
      "76 0.1027462165225097\n",
      "81 0.10030929830116471\n",
      "86 0.09972186692034407\n",
      "91 0.09972233984970455\n",
      "96 0.09553846728429213\n"
     ]
    }
   ],
   "source": [
    "# Feature selection\n",
    "LR = LinearRegression()\n",
    "\n",
    "percentiles = range(1, 100, 5)\n",
    "results = []\n",
    "for i in range(1, 101, 5):\n",
    "    fs = feature_selection.SelectPercentile(feature_selection.f_regression, percentile=i)\n",
    "    cm_fs = fs.fit_transform(x, y)\n",
    "    scores = abs(model_selection.cross_val_score(LR, cm_fs, y, cv=5, scoring='neg_mean_absolute_error'))\n",
    "    print(i,scores.mean())\n",
    "    results = np.append(results, scores.mean())"
   ]
  },
  {
   "cell_type": "code",
   "execution_count": 106,
   "metadata": {},
   "outputs": [],
   "source": [
    "cm_feature = x.columns"
   ]
  },
  {
   "cell_type": "code",
   "execution_count": 107,
   "metadata": {},
   "outputs": [
    {
     "name": "stdout",
     "output_type": "stream",
     "text": [
      "Optimal percentile of features:96 \n",
      "\n",
      "Optimal number of features:24 \n",
      "\n"
     ]
    }
   ],
   "source": [
    "optimal_percentile = int(np.where(results == results.min())[0])\n",
    "print(\"Optimal percentile of features:{0}\".format(percentiles[optimal_percentile]), \"\\n\")\n",
    "optimal_num_features = int(percentiles[optimal_percentile]*len(cm_feature)/100)\n",
    "print(\"Optimal number of features:{0}\".format(optimal_num_features), \"\\n\")"
   ]
  },
  {
   "cell_type": "code",
   "execution_count": 108,
   "metadata": {},
   "outputs": [
    {
     "data": {
      "text/plain": [
       "[<matplotlib.lines.Line2D at 0x40dcacd68>]"
      ]
     },
     "execution_count": 108,
     "metadata": {},
     "output_type": "execute_result"
    },
    {
     "data": {
      "image/png": "[encoded data removed]",
      "text/plain": [
       "<Figure size 432x288 with 1 Axes>"
      ]
     },
     "metadata": {},
     "output_type": "display_data"
    }
   ],
   "source": [
    "import pylab as pl\n",
    "pl.figure()\n",
    "pl.xlabel(\"Percentage of features selected\")\n",
    "pl.ylabel(\"Cross validation accuracy\")\n",
    "pl.plot(percentiles, results)"
   ]
  },
  {
   "cell_type": "code",
   "execution_count": 114,
   "metadata": {},
   "outputs": [
    {
     "name": "stdout",
     "output_type": "stream",
     "text": [
      "assists \t 447548.0905460063\n",
      "boosts \t 2694564.1149771535\n",
      "damageDealt \t 1042134.8735401452\n",
      "DBNOs \t 370996.0351932628\n",
      "headshotKills \t 367749.2093076857\n",
      "heals \t 978194.5510467266\n",
      "killPlace \t 4390470.158637346\n",
      "killPoints \t 35897.736260089405\n",
      "kills \t 912369.7029686667\n",
      "killStreaks \t 702622.951364569\n",
      "longestKill \t 859582.8653217416\n",
      "maxPlace \t 5169.353863920542\n",
      "numGroups \t 5664.052400352653\n",
      "revives \t 294275.19879053364\n",
      "rideDistance \t 434864.9543019018\n",
      "roadKills \t 3637.1248528921487\n",
      "swimDistance \t 107112.34510937342\n",
      "vehicleDestroys \t 14555.932237384477\n",
      "walkDistance \t 8438778.614720358\n",
      "weaponsAcquired \t 2155433.6556205563\n",
      "winPoints \t 130300.47874680879\n",
      "playersJoined \t 428.7147734263903\n",
      "totalDistance \t 3651129.046176664\n",
      "headshot_rate \t 139303.97659549944\n"
     ]
    }
   ],
   "source": [
    "fs = feature_selection.SelectPercentile(feature_selection.f_regression, percentile=96)\n",
    "x_fs = fs.fit_transform(x, y)\n",
    "for i in range(len(cm_feature)):\n",
    "    if fs.get_support()[i]:\n",
    "        print(cm_feature[i],'\\t', fs.scores_[i] )"
   ]
  },
  {
   "cell_type": "code",
   "execution_count": 122,
   "metadata": {},
   "outputs": [],
   "source": [
    "from sklearn import preprocessing"
   ]
  },
  {
   "cell_type": "code",
   "execution_count": 123,
   "metadata": {},
   "outputs": [
    {
     "data": {
      "text/plain": [
       "array([0.        , 0.27777778, 0.03873747, 0.03174603, 0.        ,\n",
       "       0.08333333, 0.16161616, 0.4730444 , 0.03333333, 0.07142857,\n",
       "       0.04937264, 0.29      , 0.27272727, 0.02439024, 0.01221947,\n",
       "       0.        , 0.        , 0.        , 0.04522543, 0.06779661,\n",
       "       0.70438652, 0.98989899, 0.02773415, 0.        ])"
      ]
     },
     "execution_count": 123,
     "metadata": {},
     "output_type": "execute_result"
    }
   ],
   "source": [
    "min_max_scaler = preprocessing.MinMaxScaler(copy=True, feature_range=(0,1)).fit(x_fs)\n",
    "data_norm = min_max_scaler.transform(x_fs)\n",
    "data_norm[0]"
   ]
  },
  {
   "cell_type": "code",
   "execution_count": 124,
   "metadata": {},
   "outputs": [],
   "source": [
    "x_train_fs, x_test_fs, y_train_fs, y_test_fs = train_test_split(data_norm, y, test_size=0.33, random_state=478)"
   ]
  },
  {
   "cell_type": "code",
   "execution_count": 125,
   "metadata": {},
   "outputs": [
    {
     "data": {
      "text/plain": [
       "LinearRegression(copy_X=True, fit_intercept=True, n_jobs=None,\n",
       "         normalize=False)"
      ]
     },
     "execution_count": 125,
     "metadata": {},
     "output_type": "execute_result"
    }
   ],
   "source": [
    "LR = LinearRegression()\n",
    "LR.fit(x_train_fs, y_train_fs)"
   ]
  },
  {
   "cell_type": "code",
   "execution_count": 128,
   "metadata": {},
   "outputs": [],
   "source": [
    "from sklearn import metrics"
   ]
  },
  {
   "cell_type": "markdown",
   "metadata": {},
   "source": [
    "## Feature Selection with Linear Regression Result"
   ]
  },
  {
   "cell_type": "code",
   "execution_count": 126,
   "metadata": {},
   "outputs": [],
   "source": [
    "y_pred_fs = LR.predict(x_test_fs)"
   ]
  },
  {
   "cell_type": "code",
   "execution_count": 129,
   "metadata": {},
   "outputs": [
    {
     "name": "stdout",
     "output_type": "stream",
     "text": [
      "0.0954197454158444\n",
      "0.017043369585895154\n",
      "0.13055025693538544\n"
     ]
    }
   ],
   "source": [
    "# MAE\n",
    "print(metrics.mean_absolute_error(y_test_fs, y_pred_fs))\n",
    "# MSE\n",
    "print(metrics.mean_squared_error(y_test_fs, y_pred_fs))\n",
    "# RMSE\n",
    "print(np.sqrt(metrics.mean_squared_error(y_test_fs, y_pred_fs)))"
   ]
  },
  {
   "cell_type": "code",
   "execution_count": 127,
   "metadata": {},
   "outputs": [
    {
     "name": "stdout",
     "output_type": "stream",
     "text": [
      "Regression Coefficients: \n",
      " [ 4.39137372e-01  2.62127670e-01  2.72119704e-01 -3.22183451e-01\n",
      "  1.29855826e+00  4.47550470e-02 -8.12311959e-01 -1.56748227e-01\n",
      " -1.39402168e+00 -1.96499925e+00 -2.66333669e-02 -6.53134279e-01\n",
      "  7.49796533e-01  5.46467617e-01  2.44628361e+09  4.91194247e-01\n",
      "  2.67225774e+08 -5.59945509e-02  8.74575461e+08  7.09679520e-01\n",
      "  4.12866626e-01  4.04837066e-01 -2.50396515e+09 -1.23024019e-01]\n"
     ]
    }
   ],
   "source": [
    "print ('Regression Coefficients: \\n', LR.coef_)"
   ]
  },
  {
   "cell_type": "markdown",
   "metadata": {},
   "source": [
    "## Feature Selection with Random Forest Regression Result"
   ]
  },
  {
   "cell_type": "code",
   "execution_count": 164,
   "metadata": {},
   "outputs": [],
   "source": [
    "RFR = RandomForestRegressor(n_estimators=40, min_samples_leaf=3, max_features='sqrt',\n",
    "                          n_jobs=-1)\n",
    "RFR.fit(x_train_fs, y_train_fs)\n",
    "y_pred = RFR.predict(x_test_fs)"
   ]
  },
  {
   "cell_type": "code",
   "execution_count": 165,
   "metadata": {},
   "outputs": [
    {
     "name": "stdout",
     "output_type": "stream",
     "text": [
      "0.062023525627092874\n",
      "0.007662986642875405\n",
      "0.08753848663802342\n"
     ]
    }
   ],
   "source": [
    "# MAE\n",
    "print(metrics.mean_absolute_error(y_test_fs,y_pred))\n",
    "# MSE\n",
    "print(metrics.mean_squared_error(y_test_fs,y_pred))\n",
    "# RMSE\n",
    "print(np.sqrt(metrics.mean_squared_error(y_test_fs,y_pred)))"
   ]
  },
  {
   "cell_type": "markdown",
   "metadata": {},
   "source": [
    "# PCA"
   ]
  },
  {
   "cell_type": "code",
   "execution_count": 5,
   "metadata": {},
   "outputs": [],
   "source": [
    "from sklearn import decomposition"
   ]
  },
  {
   "cell_type": "code",
   "execution_count": 133,
   "metadata": {},
   "outputs": [
    {
     "name": "stdout",
     "output_type": "stream",
     "text": [
      "[[ 2.42840686e-01 -1.22430556e-01 -2.85046494e-01 -1.19580348e-01\n",
      "   1.68525266e-02]\n",
      " [ 5.99608239e-01 -6.29116823e-04  7.05091335e-01  4.05081622e-02\n",
      "  -3.22881041e-02]\n",
      " [-3.70208805e-02 -2.17312463e-01 -4.86112184e-02 -1.09217690e-01\n",
      "   1.57078954e-02]\n",
      " ...\n",
      " [ 4.40581651e-01 -2.87761749e-02 -1.30981650e-01 -3.54165640e-02\n",
      "  -8.22929078e-02]\n",
      " [-3.31711677e-01 -2.87340700e-01  2.04833813e-01 -6.89767785e-02\n",
      "  -3.02277288e-02]\n",
      " [ 7.62917246e-01  8.86471066e-02  5.49308750e-01 -7.41666337e-02\n",
      "  -1.99278659e-02]]\n"
     ]
    }
   ],
   "source": [
    "# PCA\n",
    "pca = decomposition.PCA(n_components=5)\n",
    "data_trans = pca.fit(data_norm).transform(data_norm)\n",
    "print(data_trans)"
   ]
  },
  {
   "cell_type": "code",
   "execution_count": 134,
   "metadata": {},
   "outputs": [
    {
     "name": "stdout",
     "output_type": "stream",
     "text": [
      "[0.38464177 0.35132969 0.16463189 0.02814766 0.02169643]\n",
      "0.9504474384399568\n"
     ]
    }
   ],
   "source": [
    "print(pca.explained_variance_ratio_)\n",
    "print(sum(pca.explained_variance_ratio_))"
   ]
  },
  {
   "cell_type": "code",
   "execution_count": 135,
   "metadata": {},
   "outputs": [],
   "source": [
    "# pca = decomposition.PCA(n_components=6)\n",
    "# data_trans = pca.fit(data_norm).transform(data_norm)\n",
    "\n",
    "# print(pca.explained_variance_ratio_)\n",
    "# print(sum(pca.explained_variance_ratio_))"
   ]
  },
  {
   "cell_type": "code",
   "execution_count": 136,
   "metadata": {},
   "outputs": [
    {
     "data": {
      "text/plain": [
       "array([0.53111905, 0.30921983, 0.17106883, 0.33031399, 0.32690785])"
      ]
     },
     "execution_count": 136,
     "metadata": {},
     "output_type": "execute_result"
    }
   ],
   "source": [
    "min_max_scaler = preprocessing.MinMaxScaler(copy=True, feature_range=(0,1)).fit(data_trans)\n",
    "data_norm = min_max_scaler.transform(data_trans)\n",
    "data_norm[0]"
   ]
  },
  {
   "cell_type": "code",
   "execution_count": 137,
   "metadata": {},
   "outputs": [],
   "source": [
    "x_train_pca, x_test_pca, y_train_pca, y_test_pca = train_test_split(data_norm, y, test_size=0.33, random_state=478)"
   ]
  },
  {
   "cell_type": "code",
   "execution_count": 138,
   "metadata": {},
   "outputs": [
    {
     "name": "stdout",
     "output_type": "stream",
     "text": [
      "Regression Coefficients: \n",
      " [ 0.94068651  0.37158327 -0.96102602 -1.28123452  0.97086164]\n"
     ]
    }
   ],
   "source": [
    "LR = LinearRegression()\n",
    "LR.fit(x_train_pca, y_train_pca)\n",
    "y_pred_pca = LR.predict(x_test_pca)\n",
    "print ('Regression Coefficients: \\n', LR.coef_)"
   ]
  },
  {
   "cell_type": "code",
   "execution_count": 162,
   "metadata": {},
   "outputs": [],
   "source": [
    "RFR = RandomForestRegressor(n_estimators=40, min_samples_leaf=3, max_features='sqrt',\n",
    "                          n_jobs=-1)\n",
    "RFR.fit(x_train_pca, y_train_pca)\n",
    "y_pred = RFR.predict(x_test_pca)"
   ]
  },
  {
   "cell_type": "markdown",
   "metadata": {},
   "source": [
    "## PCA with Linear Regression Results"
   ]
  },
  {
   "cell_type": "code",
   "execution_count": 139,
   "metadata": {},
   "outputs": [
    {
     "name": "stdout",
     "output_type": "stream",
     "text": [
      "0.13846883110213018\n",
      "0.030350044844998418\n",
      "0.17421264260953742\n"
     ]
    }
   ],
   "source": [
    "# MAE\n",
    "print(metrics.mean_absolute_error(y_test_pca, y_pred_pca))\n",
    "# MSE\n",
    "print(metrics.mean_squared_error(y_test_pca, y_pred_pca))\n",
    "# RMSE\n",
    "print(np.sqrt(metrics.mean_squared_error(y_test_pca, y_pred_pca)))"
   ]
  },
  {
   "cell_type": "markdown",
   "metadata": {},
   "source": [
    "## PCA with Random Forest Regression Results"
   ]
  },
  {
   "cell_type": "code",
   "execution_count": 163,
   "metadata": {},
   "outputs": [
    {
     "name": "stdout",
     "output_type": "stream",
     "text": [
      "0.07361777782719925\n",
      "0.011843012137901322\n",
      "0.10882560423862264\n"
     ]
    }
   ],
   "source": [
    "# MAE\n",
    "print(metrics.mean_absolute_error(y_test, y_pred))\n",
    "# MSE\n",
    "print(metrics.mean_squared_error(y_test, y_pred))\n",
    "# RMSE\n",
    "print(np.sqrt(metrics.mean_squared_error(y_test, y_pred)))"
   ]
  },
  {
   "cell_type": "markdown",
   "metadata": {},
   "source": [
    "## Raw Data Results"
   ]
  },
  {
   "cell_type": "code",
   "execution_count": 144,
   "metadata": {},
   "outputs": [
    {
     "data": {
      "text/plain": [
       "(4355887, 26)"
      ]
     },
     "execution_count": 144,
     "metadata": {},
     "output_type": "execute_result"
    }
   ],
   "source": [
    "x.shape"
   ]
  },
  {
   "cell_type": "code",
   "execution_count": 145,
   "metadata": {},
   "outputs": [
    {
     "data": {
      "text/plain": [
       "array([0.        , 0.27777778, 0.03873747, 0.03174603, 0.        ,\n",
       "       0.08333333, 0.16161616, 0.4730444 , 0.03333333, 0.07142857,\n",
       "       0.04937264, 0.29      , 0.27272727, 0.02439024, 0.01221947,\n",
       "       0.        , 0.        , 0.        , 0.        , 0.04522543,\n",
       "       0.06779661, 0.70438652, 0.98989899, 0.02773415, 0.        ,\n",
       "       0.        ])"
      ]
     },
     "execution_count": 145,
     "metadata": {},
     "output_type": "execute_result"
    }
   ],
   "source": [
    "min_max_scaler = preprocessing.MinMaxScaler(copy=True, feature_range=(0,1)).fit(x)\n",
    "data_norm = min_max_scaler.transform(x)\n",
    "data_norm[0]"
   ]
  },
  {
   "cell_type": "code",
   "execution_count": 146,
   "metadata": {},
   "outputs": [],
   "source": [
    "x_train, x_test, y_train, y_test = train_test_split(data_norm, y, test_size=0.33, random_state=478)"
   ]
  },
  {
   "cell_type": "code",
   "execution_count": 147,
   "metadata": {},
   "outputs": [
    {
     "name": "stdout",
     "output_type": "stream",
     "text": [
      "Regression Coefficients: \n",
      " [ 4.34706297e-01  2.60488709e-01  2.98702770e-01 -2.95702638e-01\n",
      "  1.30083814e+00  4.44617929e-02 -8.13230813e-01 -1.57414568e-01\n",
      " -1.43091841e+00 -1.96439414e+00 -2.92692964e-02 -6.49793418e-01\n",
      "  7.46315102e-01  5.50278585e-01  1.83128255e+09  5.00307888e-01\n",
      "  2.00044629e+08 -2.12467228e-01 -1.63667499e-02  6.54705273e+08\n",
      "  7.11246350e-01  4.12848618e-01  4.05923004e-01 -1.87446282e+09\n",
      "  0.00000000e+00 -1.23234589e-01]\n"
     ]
    }
   ],
   "source": [
    "LR = LinearRegression()\n",
    "LR.fit(x_train, y_train)\n",
    "y_pred = LR.predict(x_test)\n",
    "print ('Regression Coefficients: \\n', LR.coef_)"
   ]
  },
  {
   "cell_type": "markdown",
   "metadata": {},
   "source": [
    "## Raw Data with Linear Regression Results"
   ]
  },
  {
   "cell_type": "code",
   "execution_count": 148,
   "metadata": {},
   "outputs": [
    {
     "name": "stdout",
     "output_type": "stream",
     "text": [
      "0.09535405833092096\n",
      "0.017019054246589158\n",
      "0.1304570973408084\n"
     ]
    }
   ],
   "source": [
    "# MAE\n",
    "print(metrics.mean_absolute_error(y_test, y_pred))\n",
    "# MSE\n",
    "print(metrics.mean_squared_error(y_test, y_pred))\n",
    "# RMSE\n",
    "print(np.sqrt(metrics.mean_squared_error(y_test, y_pred)))"
   ]
  },
  {
   "cell_type": "code",
   "execution_count": 149,
   "metadata": {},
   "outputs": [],
   "source": [
    "from sklearn.ensemble import RandomForestRegressor"
   ]
  },
  {
   "cell_type": "markdown",
   "metadata": {},
   "source": [
    "## Raw Data with Random Forest Regression Results"
   ]
  },
  {
   "cell_type": "code",
   "execution_count": 166,
   "metadata": {},
   "outputs": [],
   "source": [
    "RFR = RandomForestRegressor(n_estimators=40, min_samples_leaf=3, max_features='sqrt',\n",
    "                          n_jobs=-1)\n",
    "RFR.fit(x_train, y_train)\n",
    "y_pred = RFR.predict(x_test)"
   ]
  },
  {
   "cell_type": "code",
   "execution_count": 153,
   "metadata": {},
   "outputs": [
    {
     "name": "stdout",
     "output_type": "stream",
     "text": [
      "0.0613385691214103\n",
      "0.0074978618566127146\n",
      "0.08659019492190045\n"
     ]
    }
   ],
   "source": [
    "# MAE\n",
    "print(metrics.mean_absolute_error(y_test, y_pred))\n",
    "# MSE\n",
    "print(metrics.mean_squared_error(y_test, y_pred))\n",
    "# RMSE\n",
    "print(np.sqrt(metrics.mean_squared_error(y_test, y_pred)))"
   ]
  },
  {
   "cell_type": "code",
   "execution_count": null,
   "metadata": {},
   "outputs": [],
   "source": []
  }
 ],
 "metadata": {
  "kernelspec": {
   "display_name": "Python 3",
   "language": "python",
   "name": "python3"
  },
  "language_info": {
   "codemirror_mode": {
    "name": "ipython",
    "version": 3
   },
   "file_extension": ".py",
   "mimetype": "text/x-python",
   "name": "python",
   "nbconvert_exporter": "python",
   "pygments_lexer": "ipython3",
   "version": "3.6.4"
  }
 },
 "nbformat": 4,
 "nbformat_minor": 2
}
